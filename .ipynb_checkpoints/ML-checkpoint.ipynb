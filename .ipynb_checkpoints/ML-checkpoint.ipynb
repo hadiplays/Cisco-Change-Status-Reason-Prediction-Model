{
 "cells": [
  {
   "cell_type": "markdown",
   "id": "cdc55abe",
   "metadata": {},
   "source": [
    "# NCM Data Evalutaion"
   ]
  },
  {
   "cell_type": "code",
   "execution_count": 3,
   "id": "1dad5a8e",
   "metadata": {},
   "outputs": [],
   "source": [
    "import pandas as pd\n",
    "\n",
    "# Making data frame from csv file\n",
    "original_dataframe = pd.read_excel(\"NCM-Change Management - Results - CISCO.xlsx\")"
   ]
  },
  {
   "cell_type": "code",
   "execution_count": 4,
   "id": "3aa892e0",
   "metadata": {},
   "outputs": [
    {
     "data": {
      "text/html": [
       "<div>\n",
       "<style scoped>\n",
       "    .dataframe tbody tr th:only-of-type {\n",
       "        vertical-align: middle;\n",
       "    }\n",
       "\n",
       "    .dataframe tbody tr th {\n",
       "        vertical-align: top;\n",
       "    }\n",
       "\n",
       "    .dataframe thead th {\n",
       "        text-align: right;\n",
       "    }\n",
       "</style>\n",
       "<table border=\"1\" class=\"dataframe\">\n",
       "  <thead>\n",
       "    <tr style=\"text-align: right;\">\n",
       "      <th></th>\n",
       "      <th>Change</th>\n",
       "      <th>Link</th>\n",
       "      <th>Change Summary</th>\n",
       "      <th>Change Summary Requirements</th>\n",
       "      <th>Derived Change Category</th>\n",
       "      <th>Change Risk Level</th>\n",
       "      <th>Change Class</th>\n",
       "      <th>Change Status</th>\n",
       "      <th>Change Status Reason</th>\n",
       "      <th>Change Status Reason - Enriched</th>\n",
       "      <th>...</th>\n",
       "      <th>Change Manager Hierarchy</th>\n",
       "      <th>Change Manager Level 5 Name</th>\n",
       "      <th>Change Manager Level 4 Name</th>\n",
       "      <th>Change Manager Level 3 Name</th>\n",
       "      <th>Change Manager Level 2 Name</th>\n",
       "      <th>ChangeLink</th>\n",
       "      <th>Change Link</th>\n",
       "      <th>OusideRange</th>\n",
       "      <th>NCM</th>\n",
       "      <th>FailedChangeReport</th>\n",
       "    </tr>\n",
       "  </thead>\n",
       "  <tbody>\n",
       "    <tr>\n",
       "      <th>0</th>\n",
       "      <td>CRQ000011207332</td>\n",
       "      <td>CRQ000011207332</td>\n",
       "      <td>NA3RC Cleanup to push ISE authentication chang...</td>\n",
       "      <td>AMRS-NEC-DN(L)MODIFY-Router-ILW-268-CTO</td>\n",
       "      <td>NA3RC Project</td>\n",
       "      <td>Risk Level 3</td>\n",
       "      <td>Normal</td>\n",
       "      <td>Closed</td>\n",
       "      <td>Successful</td>\n",
       "      <td>Successful</td>\n",
       "      <td>...</td>\n",
       "      <td>MOYNIHAN/BESSANT/REILLY/KERRISON/WALKER/MCCARR...</td>\n",
       "      <td>SISTO, NICOLA A.(NICK)</td>\n",
       "      <td>MCCARREN, PATRICK</td>\n",
       "      <td>KERRISON, ANTONY R.</td>\n",
       "      <td>REILLY, DAVID</td>\n",
       "      <td>https://itsm-webapp.bankofamerica.com/arsys/se...</td>\n",
       "      <td>CRQ000011207332#https://itsm-webapp.bankofamer...</td>\n",
       "      <td>False</td>\n",
       "      <td>True</td>\n",
       "      <td>True</td>\n",
       "    </tr>\n",
       "    <tr>\n",
       "      <th>1</th>\n",
       "      <td>CRQ000009568701</td>\n",
       "      <td>CRQ000009568701</td>\n",
       "      <td>STD-GLB-NETW- SDWAN Branch Transformation - Ba...</td>\n",
       "      <td>NaN</td>\n",
       "      <td>NaN</td>\n",
       "      <td>Risk Level 2</td>\n",
       "      <td>Standard</td>\n",
       "      <td>Closed</td>\n",
       "      <td>Successful with Issues</td>\n",
       "      <td>Successful with Issues</td>\n",
       "      <td>...</td>\n",
       "      <td>MOYNIHAN/BESSANT/REILLY/KERRISON/WALKER/MCCARR...</td>\n",
       "      <td>NEWELL, JOHN A.</td>\n",
       "      <td>MCCARREN, PATRICK</td>\n",
       "      <td>KERRISON, ANTONY R.</td>\n",
       "      <td>REILLY, DAVID</td>\n",
       "      <td>https://itsm-webapp.bankofamerica.com/arsys/se...</td>\n",
       "      <td>CRQ000009568701#https://itsm-webapp.bankofamer...</td>\n",
       "      <td>False</td>\n",
       "      <td>True</td>\n",
       "      <td>True</td>\n",
       "    </tr>\n",
       "    <tr>\n",
       "      <th>2</th>\n",
       "      <td>CRQ000011239694</td>\n",
       "      <td>CRQ000011239694</td>\n",
       "      <td>STD-GLB-NETW-Cable Installation</td>\n",
       "      <td>NaN</td>\n",
       "      <td>CABLING</td>\n",
       "      <td>Risk Level 2</td>\n",
       "      <td>Standard</td>\n",
       "      <td>Closed</td>\n",
       "      <td>Successful</td>\n",
       "      <td>Successful</td>\n",
       "      <td>...</td>\n",
       "      <td>MOYNIHAN/BESSANT/REILLY/KERRISON/WALKER/MCCARR...</td>\n",
       "      <td>SISTO, NICOLA A.(NICK)</td>\n",
       "      <td>MCCARREN, PATRICK</td>\n",
       "      <td>KERRISON, ANTONY R.</td>\n",
       "      <td>REILLY, DAVID</td>\n",
       "      <td>https://itsm-webapp.bankofamerica.com/arsys/se...</td>\n",
       "      <td>CRQ000011239694#https://itsm-webapp.bankofamer...</td>\n",
       "      <td>False</td>\n",
       "      <td>True</td>\n",
       "      <td>True</td>\n",
       "    </tr>\n",
       "    <tr>\n",
       "      <th>3</th>\n",
       "      <td>CRQ000011323252</td>\n",
       "      <td>CRQ000011323252</td>\n",
       "      <td>STD-GLB-NETW-Cable Installation -TXW-D17</td>\n",
       "      <td>AMRS-STD-DN(P)Cabling support-TXW-D17-GT&amp;O(FNJ)</td>\n",
       "      <td>SWITCH</td>\n",
       "      <td>Risk Level 2</td>\n",
       "      <td>Standard</td>\n",
       "      <td>Closed</td>\n",
       "      <td>Successful</td>\n",
       "      <td>Successful</td>\n",
       "      <td>...</td>\n",
       "      <td>MOYNIHAN/BESSANT/REILLY/KERRISON/WALKER/MCCARR...</td>\n",
       "      <td>SISTO, NICOLA A.(NICK)</td>\n",
       "      <td>MCCARREN, PATRICK</td>\n",
       "      <td>KERRISON, ANTONY R.</td>\n",
       "      <td>REILLY, DAVID</td>\n",
       "      <td>https://itsm-webapp.bankofamerica.com/arsys/se...</td>\n",
       "      <td>CRQ000011323252#https://itsm-webapp.bankofamer...</td>\n",
       "      <td>False</td>\n",
       "      <td>True</td>\n",
       "      <td>True</td>\n",
       "    </tr>\n",
       "    <tr>\n",
       "      <th>4</th>\n",
       "      <td>CRQ000011323650</td>\n",
       "      <td>CRQ000011323650</td>\n",
       "      <td>STD-GLB-NETW-Cable Installation - VAW-363</td>\n",
       "      <td>AMRS-STD-DN(P)Cabling support-VAW-363 -GT&amp;O(FNJ)</td>\n",
       "      <td>SWITCH</td>\n",
       "      <td>Risk Level 2</td>\n",
       "      <td>Standard</td>\n",
       "      <td>Closed</td>\n",
       "      <td>Successful</td>\n",
       "      <td>Successful</td>\n",
       "      <td>...</td>\n",
       "      <td>MOYNIHAN/BESSANT/REILLY/KERRISON/WALKER/MCCARR...</td>\n",
       "      <td>SISTO, NICOLA A.(NICK)</td>\n",
       "      <td>MCCARREN, PATRICK</td>\n",
       "      <td>KERRISON, ANTONY R.</td>\n",
       "      <td>REILLY, DAVID</td>\n",
       "      <td>https://itsm-webapp.bankofamerica.com/arsys/se...</td>\n",
       "      <td>CRQ000011323650#https://itsm-webapp.bankofamer...</td>\n",
       "      <td>False</td>\n",
       "      <td>True</td>\n",
       "      <td>True</td>\n",
       "    </tr>\n",
       "  </tbody>\n",
       "</table>\n",
       "<p>5 rows × 63 columns</p>\n",
       "</div>"
      ],
      "text/plain": [
       "            Change             Link  \\\n",
       "0  CRQ000011207332  CRQ000011207332   \n",
       "1  CRQ000009568701  CRQ000009568701   \n",
       "2  CRQ000011239694  CRQ000011239694   \n",
       "3  CRQ000011323252  CRQ000011323252   \n",
       "4  CRQ000011323650  CRQ000011323650   \n",
       "\n",
       "                                      Change Summary  \\\n",
       "0  NA3RC Cleanup to push ISE authentication chang...   \n",
       "1  STD-GLB-NETW- SDWAN Branch Transformation - Ba...   \n",
       "2                    STD-GLB-NETW-Cable Installation   \n",
       "3           STD-GLB-NETW-Cable Installation -TXW-D17   \n",
       "4          STD-GLB-NETW-Cable Installation - VAW-363   \n",
       "\n",
       "                        Change Summary Requirements Derived Change Category  \\\n",
       "0           AMRS-NEC-DN(L)MODIFY-Router-ILW-268-CTO           NA3RC Project   \n",
       "1                                               NaN                     NaN   \n",
       "2                                               NaN                 CABLING   \n",
       "3   AMRS-STD-DN(P)Cabling support-TXW-D17-GT&O(FNJ)                  SWITCH   \n",
       "4  AMRS-STD-DN(P)Cabling support-VAW-363 -GT&O(FNJ)                  SWITCH   \n",
       "\n",
       "  Change Risk Level Change Class Change Status    Change Status Reason  \\\n",
       "0      Risk Level 3       Normal        Closed              Successful   \n",
       "1      Risk Level 2     Standard        Closed  Successful with Issues   \n",
       "2      Risk Level 2     Standard        Closed              Successful   \n",
       "3      Risk Level 2     Standard        Closed              Successful   \n",
       "4      Risk Level 2     Standard        Closed              Successful   \n",
       "\n",
       "  Change Status Reason - Enriched  ...  \\\n",
       "0                      Successful  ...   \n",
       "1          Successful with Issues  ...   \n",
       "2                      Successful  ...   \n",
       "3                      Successful  ...   \n",
       "4                      Successful  ...   \n",
       "\n",
       "                            Change Manager Hierarchy  \\\n",
       "0  MOYNIHAN/BESSANT/REILLY/KERRISON/WALKER/MCCARR...   \n",
       "1  MOYNIHAN/BESSANT/REILLY/KERRISON/WALKER/MCCARR...   \n",
       "2  MOYNIHAN/BESSANT/REILLY/KERRISON/WALKER/MCCARR...   \n",
       "3  MOYNIHAN/BESSANT/REILLY/KERRISON/WALKER/MCCARR...   \n",
       "4  MOYNIHAN/BESSANT/REILLY/KERRISON/WALKER/MCCARR...   \n",
       "\n",
       "  Change Manager Level 5 Name Change Manager Level 4 Name  \\\n",
       "0      SISTO, NICOLA A.(NICK)           MCCARREN, PATRICK   \n",
       "1             NEWELL, JOHN A.           MCCARREN, PATRICK   \n",
       "2      SISTO, NICOLA A.(NICK)           MCCARREN, PATRICK   \n",
       "3      SISTO, NICOLA A.(NICK)           MCCARREN, PATRICK   \n",
       "4      SISTO, NICOLA A.(NICK)           MCCARREN, PATRICK   \n",
       "\n",
       "  Change Manager Level 3 Name Change Manager Level 2 Name  \\\n",
       "0         KERRISON, ANTONY R.               REILLY, DAVID   \n",
       "1         KERRISON, ANTONY R.               REILLY, DAVID   \n",
       "2         KERRISON, ANTONY R.               REILLY, DAVID   \n",
       "3         KERRISON, ANTONY R.               REILLY, DAVID   \n",
       "4         KERRISON, ANTONY R.               REILLY, DAVID   \n",
       "\n",
       "                                          ChangeLink  \\\n",
       "0  https://itsm-webapp.bankofamerica.com/arsys/se...   \n",
       "1  https://itsm-webapp.bankofamerica.com/arsys/se...   \n",
       "2  https://itsm-webapp.bankofamerica.com/arsys/se...   \n",
       "3  https://itsm-webapp.bankofamerica.com/arsys/se...   \n",
       "4  https://itsm-webapp.bankofamerica.com/arsys/se...   \n",
       "\n",
       "                                         Change Link OusideRange   NCM  \\\n",
       "0  CRQ000011207332#https://itsm-webapp.bankofamer...       False  True   \n",
       "1  CRQ000009568701#https://itsm-webapp.bankofamer...       False  True   \n",
       "2  CRQ000011239694#https://itsm-webapp.bankofamer...       False  True   \n",
       "3  CRQ000011323252#https://itsm-webapp.bankofamer...       False  True   \n",
       "4  CRQ000011323650#https://itsm-webapp.bankofamer...       False  True   \n",
       "\n",
       "   FailedChangeReport  \n",
       "0                True  \n",
       "1                True  \n",
       "2                True  \n",
       "3                True  \n",
       "4                True  \n",
       "\n",
       "[5 rows x 63 columns]"
      ]
     },
     "execution_count": 4,
     "metadata": {},
     "output_type": "execute_result"
    }
   ],
   "source": [
    "# Take a look at the data being worked with\n",
    "original_dataframe.head()"
   ]
  },
  {
   "cell_type": "code",
   "execution_count": 94,
   "id": "771cf741",
   "metadata": {},
   "outputs": [],
   "source": [
    "# Create dataframe only containing the important information\n",
    "df = original_dataframe[['Change Status Reason - Enriched', 'Derived Change Category', 'Change Risk Level', 'Change Impact', 'Change Priority', 'Change Urgency']]"
   ]
  },
  {
   "cell_type": "code",
   "execution_count": 95,
   "id": "2f041726",
   "metadata": {},
   "outputs": [
    {
     "data": {
      "text/html": [
       "<div>\n",
       "<style scoped>\n",
       "    .dataframe tbody tr th:only-of-type {\n",
       "        vertical-align: middle;\n",
       "    }\n",
       "\n",
       "    .dataframe tbody tr th {\n",
       "        vertical-align: top;\n",
       "    }\n",
       "\n",
       "    .dataframe thead th {\n",
       "        text-align: right;\n",
       "    }\n",
       "</style>\n",
       "<table border=\"1\" class=\"dataframe\">\n",
       "  <thead>\n",
       "    <tr style=\"text-align: right;\">\n",
       "      <th></th>\n",
       "      <th>Change Status Reason - Enriched</th>\n",
       "      <th>Derived Change Category</th>\n",
       "      <th>Change Risk Level</th>\n",
       "      <th>Change Impact</th>\n",
       "      <th>Change Priority</th>\n",
       "      <th>Change Urgency</th>\n",
       "    </tr>\n",
       "  </thead>\n",
       "  <tbody>\n",
       "    <tr>\n",
       "      <th>0</th>\n",
       "      <td>Successful</td>\n",
       "      <td>NA3RC Project</td>\n",
       "      <td>Risk Level 3</td>\n",
       "      <td>4-Minor/Localized</td>\n",
       "      <td>Low</td>\n",
       "      <td>1-Critical</td>\n",
       "    </tr>\n",
       "    <tr>\n",
       "      <th>1</th>\n",
       "      <td>Successful with Issues</td>\n",
       "      <td>NaN</td>\n",
       "      <td>Risk Level 2</td>\n",
       "      <td>1-Extensive/Widespread</td>\n",
       "      <td>Low</td>\n",
       "      <td>4-Low</td>\n",
       "    </tr>\n",
       "    <tr>\n",
       "      <th>2</th>\n",
       "      <td>Successful</td>\n",
       "      <td>CABLING</td>\n",
       "      <td>Risk Level 2</td>\n",
       "      <td>4-Minor/Localized</td>\n",
       "      <td>Low</td>\n",
       "      <td>4-Low</td>\n",
       "    </tr>\n",
       "    <tr>\n",
       "      <th>3</th>\n",
       "      <td>Successful</td>\n",
       "      <td>SWITCH</td>\n",
       "      <td>Risk Level 2</td>\n",
       "      <td>4-Minor/Localized</td>\n",
       "      <td>Low</td>\n",
       "      <td>4-Low</td>\n",
       "    </tr>\n",
       "    <tr>\n",
       "      <th>4</th>\n",
       "      <td>Successful</td>\n",
       "      <td>SWITCH</td>\n",
       "      <td>Risk Level 2</td>\n",
       "      <td>4-Minor/Localized</td>\n",
       "      <td>Low</td>\n",
       "      <td>4-Low</td>\n",
       "    </tr>\n",
       "  </tbody>\n",
       "</table>\n",
       "</div>"
      ],
      "text/plain": [
       "  Change Status Reason - Enriched Derived Change Category Change Risk Level  \\\n",
       "0                      Successful           NA3RC Project      Risk Level 3   \n",
       "1          Successful with Issues                     NaN      Risk Level 2   \n",
       "2                      Successful                 CABLING      Risk Level 2   \n",
       "3                      Successful                  SWITCH      Risk Level 2   \n",
       "4                      Successful                  SWITCH      Risk Level 2   \n",
       "\n",
       "            Change Impact Change Priority Change Urgency  \n",
       "0       4-Minor/Localized             Low     1-Critical  \n",
       "1  1-Extensive/Widespread             Low          4-Low  \n",
       "2       4-Minor/Localized             Low          4-Low  \n",
       "3       4-Minor/Localized             Low          4-Low  \n",
       "4       4-Minor/Localized             Low          4-Low  "
      ]
     },
     "execution_count": 95,
     "metadata": {},
     "output_type": "execute_result"
    }
   ],
   "source": [
    "# Examine the new dataframe\n",
    "df.head()"
   ]
  },
  {
   "cell_type": "code",
   "execution_count": 96,
   "id": "78152e90",
   "metadata": {},
   "outputs": [
    {
     "data": {
      "text/plain": [
       "array(['Successful', 'Successful with Issues', 'Backed Out',\n",
       "       'unsuccessful', 'Caused Incident with Impact', 'Caused Incident',\n",
       "       'Unsuccessful'], dtype=object)"
      ]
     },
     "execution_count": 96,
     "metadata": {},
     "output_type": "execute_result"
    }
   ],
   "source": [
    "df['Change Status Reason - Enriched'].unique()"
   ]
  },
  {
   "cell_type": "code",
   "execution_count": 97,
   "id": "78ba81ca",
   "metadata": {},
   "outputs": [
    {
     "data": {
      "text/plain": [
       "Change Status Reason - Enriched      0\n",
       "Derived Change Category            469\n",
       "Change Risk Level                    0\n",
       "Change Impact                        0\n",
       "Change Priority                      0\n",
       "Change Urgency                       0\n",
       "dtype: int64"
      ]
     },
     "execution_count": 97,
     "metadata": {},
     "output_type": "execute_result"
    }
   ],
   "source": [
    "# Determine if there is any missing values in the data frame\n",
    "df.isna().sum()"
   ]
  },
  {
   "cell_type": "code",
   "execution_count": 98,
   "id": "10a4e7c6",
   "metadata": {},
   "outputs": [
    {
     "name": "stderr",
     "output_type": "stream",
     "text": [
      "C:\\Users\\hbaajour\\AppData\\Local\\Temp\\ipykernel_23924\\4042714079.py:2: SettingWithCopyWarning: \n",
      "A value is trying to be set on a copy of a slice from a DataFrame.\n",
      "Try using .loc[row_indexer,col_indexer] = value instead\n",
      "\n",
      "See the caveats in the documentation: https://pandas.pydata.org/pandas-docs/stable/user_guide/indexing.html#returning-a-view-versus-a-copy\n",
      "  df['Derived Change Category'] = df['Derived Change Category'].fillna('NaN')\n"
     ]
    }
   ],
   "source": [
    "# Fill missing values in 'Derived Change Category' with 'NaN'\n",
    "df['Derived Change Category'] = df['Derived Change Category'].fillna('NaN')"
   ]
  },
  {
   "cell_type": "code",
   "execution_count": 99,
   "id": "75cfc877",
   "metadata": {},
   "outputs": [
    {
     "data": {
      "text/plain": [
       "Change Status Reason - Enriched    0\n",
       "Derived Change Category            0\n",
       "Change Risk Level                  0\n",
       "Change Impact                      0\n",
       "Change Priority                    0\n",
       "Change Urgency                     0\n",
       "dtype: int64"
      ]
     },
     "execution_count": 99,
     "metadata": {},
     "output_type": "execute_result"
    }
   ],
   "source": [
    "# Check if all missing values are filled in\n",
    "df.isna().sum()"
   ]
  },
  {
   "cell_type": "code",
   "execution_count": 100,
   "id": "aa7addf1",
   "metadata": {},
   "outputs": [
    {
     "name": "stderr",
     "output_type": "stream",
     "text": [
      "C:\\Users\\hbaajour\\AppData\\Local\\Temp\\ipykernel_23924\\3870950365.py:2: SettingWithCopyWarning: \n",
      "A value is trying to be set on a copy of a slice from a DataFrame.\n",
      "Try using .loc[row_indexer,col_indexer] = value instead\n",
      "\n",
      "See the caveats in the documentation: https://pandas.pydata.org/pandas-docs/stable/user_guide/indexing.html#returning-a-view-versus-a-copy\n",
      "  df['Change Impact'] = df['Change Impact'].str.extract('(\\d+)').astype(int)\n",
      "C:\\Users\\hbaajour\\AppData\\Local\\Temp\\ipykernel_23924\\3870950365.py:3: SettingWithCopyWarning: \n",
      "A value is trying to be set on a copy of a slice from a DataFrame.\n",
      "Try using .loc[row_indexer,col_indexer] = value instead\n",
      "\n",
      "See the caveats in the documentation: https://pandas.pydata.org/pandas-docs/stable/user_guide/indexing.html#returning-a-view-versus-a-copy\n",
      "  df['Change Risk Level'] = df['Change Risk Level'].str.extract('(\\d+)').astype(int)\n",
      "C:\\Users\\hbaajour\\AppData\\Local\\Temp\\ipykernel_23924\\3870950365.py:4: SettingWithCopyWarning: \n",
      "A value is trying to be set on a copy of a slice from a DataFrame.\n",
      "Try using .loc[row_indexer,col_indexer] = value instead\n",
      "\n",
      "See the caveats in the documentation: https://pandas.pydata.org/pandas-docs/stable/user_guide/indexing.html#returning-a-view-versus-a-copy\n",
      "  df['Change Urgency'] = df['Change Urgency'].str.extract('(\\d+)').astype(int)\n"
     ]
    }
   ],
   "source": [
    "# Enumerate the following columns in order for the models to take values as input\n",
    "df['Change Impact'] = df['Change Impact'].str.extract('(\\d+)').astype(int)\n",
    "df['Change Risk Level'] = df['Change Risk Level'].str.extract('(\\d+)').astype(int)\n",
    "df['Change Urgency'] = df['Change Urgency'].str.extract('(\\d+)').astype(int)"
   ]
  },
  {
   "cell_type": "code",
   "execution_count": 101,
   "id": "15b06be6",
   "metadata": {},
   "outputs": [
    {
     "data": {
      "text/html": [
       "<div>\n",
       "<style scoped>\n",
       "    .dataframe tbody tr th:only-of-type {\n",
       "        vertical-align: middle;\n",
       "    }\n",
       "\n",
       "    .dataframe tbody tr th {\n",
       "        vertical-align: top;\n",
       "    }\n",
       "\n",
       "    .dataframe thead th {\n",
       "        text-align: right;\n",
       "    }\n",
       "</style>\n",
       "<table border=\"1\" class=\"dataframe\">\n",
       "  <thead>\n",
       "    <tr style=\"text-align: right;\">\n",
       "      <th></th>\n",
       "      <th>Change Status Reason - Enriched</th>\n",
       "      <th>Derived Change Category</th>\n",
       "      <th>Change Risk Level</th>\n",
       "      <th>Change Impact</th>\n",
       "      <th>Change Priority</th>\n",
       "      <th>Change Urgency</th>\n",
       "    </tr>\n",
       "  </thead>\n",
       "  <tbody>\n",
       "    <tr>\n",
       "      <th>0</th>\n",
       "      <td>Successful</td>\n",
       "      <td>NA3RC Project</td>\n",
       "      <td>3</td>\n",
       "      <td>4</td>\n",
       "      <td>Low</td>\n",
       "      <td>1</td>\n",
       "    </tr>\n",
       "    <tr>\n",
       "      <th>1</th>\n",
       "      <td>Successful with Issues</td>\n",
       "      <td>NaN</td>\n",
       "      <td>2</td>\n",
       "      <td>1</td>\n",
       "      <td>Low</td>\n",
       "      <td>4</td>\n",
       "    </tr>\n",
       "    <tr>\n",
       "      <th>2</th>\n",
       "      <td>Successful</td>\n",
       "      <td>CABLING</td>\n",
       "      <td>2</td>\n",
       "      <td>4</td>\n",
       "      <td>Low</td>\n",
       "      <td>4</td>\n",
       "    </tr>\n",
       "    <tr>\n",
       "      <th>3</th>\n",
       "      <td>Successful</td>\n",
       "      <td>SWITCH</td>\n",
       "      <td>2</td>\n",
       "      <td>4</td>\n",
       "      <td>Low</td>\n",
       "      <td>4</td>\n",
       "    </tr>\n",
       "    <tr>\n",
       "      <th>4</th>\n",
       "      <td>Successful</td>\n",
       "      <td>SWITCH</td>\n",
       "      <td>2</td>\n",
       "      <td>4</td>\n",
       "      <td>Low</td>\n",
       "      <td>4</td>\n",
       "    </tr>\n",
       "  </tbody>\n",
       "</table>\n",
       "</div>"
      ],
      "text/plain": [
       "  Change Status Reason - Enriched Derived Change Category  Change Risk Level  \\\n",
       "0                      Successful           NA3RC Project                  3   \n",
       "1          Successful with Issues                     NaN                  2   \n",
       "2                      Successful                 CABLING                  2   \n",
       "3                      Successful                  SWITCH                  2   \n",
       "4                      Successful                  SWITCH                  2   \n",
       "\n",
       "   Change Impact Change Priority  Change Urgency  \n",
       "0              4             Low               1  \n",
       "1              1             Low               4  \n",
       "2              4             Low               4  \n",
       "3              4             Low               4  \n",
       "4              4             Low               4  "
      ]
     },
     "execution_count": 101,
     "metadata": {},
     "output_type": "execute_result"
    }
   ],
   "source": [
    "# Check the changes\n",
    "df.head()"
   ]
  },
  {
   "cell_type": "code",
   "execution_count": 102,
   "id": "c1848ec0",
   "metadata": {},
   "outputs": [
    {
     "name": "stderr",
     "output_type": "stream",
     "text": [
      "C:\\Users\\hbaajour\\AppData\\Local\\Temp\\ipykernel_23924\\3479766792.py:8: SettingWithCopyWarning: \n",
      "A value is trying to be set on a copy of a slice from a DataFrame.\n",
      "Try using .loc[row_indexer,col_indexer] = value instead\n",
      "\n",
      "See the caveats in the documentation: https://pandas.pydata.org/pandas-docs/stable/user_guide/indexing.html#returning-a-view-versus-a-copy\n",
      "  df['Change Status Reason - Enriched'] = le.transform(df['Change Status Reason - Enriched'])\n",
      "C:\\Users\\hbaajour\\AppData\\Local\\Temp\\ipykernel_23924\\3479766792.py:11: SettingWithCopyWarning: \n",
      "A value is trying to be set on a copy of a slice from a DataFrame.\n",
      "Try using .loc[row_indexer,col_indexer] = value instead\n",
      "\n",
      "See the caveats in the documentation: https://pandas.pydata.org/pandas-docs/stable/user_guide/indexing.html#returning-a-view-versus-a-copy\n",
      "  df['Derived Change Category'] = le.transform(df['Derived Change Category'])\n",
      "C:\\Users\\hbaajour\\AppData\\Local\\Temp\\ipykernel_23924\\3479766792.py:14: SettingWithCopyWarning: \n",
      "A value is trying to be set on a copy of a slice from a DataFrame.\n",
      "Try using .loc[row_indexer,col_indexer] = value instead\n",
      "\n",
      "See the caveats in the documentation: https://pandas.pydata.org/pandas-docs/stable/user_guide/indexing.html#returning-a-view-versus-a-copy\n",
      "  df['Change Priority'] = le.transform(df['Change Priority'])\n"
     ]
    }
   ],
   "source": [
    "# Three of our variables (Change Status Reason - Enriched, Derived Change Category, and Change Priority) are categorical\n",
    "# We need to encode them so that our models can take thier values as input\n",
    "from sklearn.preprocessing import LabelEncoder\n",
    "\n",
    "le = LabelEncoder()\n",
    "\n",
    "le.fit(df['Change Status Reason - Enriched'])\n",
    "df['Change Status Reason - Enriched'] = le.transform(df['Change Status Reason - Enriched'])\n",
    "\n",
    "le.fit(df['Derived Change Category'])\n",
    "df['Derived Change Category'] = le.transform(df['Derived Change Category'])\n",
    "\n",
    "le.fit(df['Change Priority'])\n",
    "df['Change Priority'] = le.transform(df['Change Priority'])"
   ]
  },
  {
   "cell_type": "code",
   "execution_count": 103,
   "id": "7ec95d2f",
   "metadata": {},
   "outputs": [
    {
     "data": {
      "text/html": [
       "<div>\n",
       "<style scoped>\n",
       "    .dataframe tbody tr th:only-of-type {\n",
       "        vertical-align: middle;\n",
       "    }\n",
       "\n",
       "    .dataframe tbody tr th {\n",
       "        vertical-align: top;\n",
       "    }\n",
       "\n",
       "    .dataframe thead th {\n",
       "        text-align: right;\n",
       "    }\n",
       "</style>\n",
       "<table border=\"1\" class=\"dataframe\">\n",
       "  <thead>\n",
       "    <tr style=\"text-align: right;\">\n",
       "      <th></th>\n",
       "      <th>Change Status Reason - Enriched</th>\n",
       "      <th>Derived Change Category</th>\n",
       "      <th>Change Risk Level</th>\n",
       "      <th>Change Impact</th>\n",
       "      <th>Change Priority</th>\n",
       "      <th>Change Urgency</th>\n",
       "    </tr>\n",
       "  </thead>\n",
       "  <tbody>\n",
       "    <tr>\n",
       "      <th>0</th>\n",
       "      <td>3</td>\n",
       "      <td>12</td>\n",
       "      <td>3</td>\n",
       "      <td>4</td>\n",
       "      <td>2</td>\n",
       "      <td>1</td>\n",
       "    </tr>\n",
       "    <tr>\n",
       "      <th>1</th>\n",
       "      <td>4</td>\n",
       "      <td>14</td>\n",
       "      <td>2</td>\n",
       "      <td>1</td>\n",
       "      <td>2</td>\n",
       "      <td>4</td>\n",
       "    </tr>\n",
       "    <tr>\n",
       "      <th>2</th>\n",
       "      <td>3</td>\n",
       "      <td>1</td>\n",
       "      <td>2</td>\n",
       "      <td>4</td>\n",
       "      <td>2</td>\n",
       "      <td>4</td>\n",
       "    </tr>\n",
       "    <tr>\n",
       "      <th>3</th>\n",
       "      <td>3</td>\n",
       "      <td>19</td>\n",
       "      <td>2</td>\n",
       "      <td>4</td>\n",
       "      <td>2</td>\n",
       "      <td>4</td>\n",
       "    </tr>\n",
       "    <tr>\n",
       "      <th>4</th>\n",
       "      <td>3</td>\n",
       "      <td>19</td>\n",
       "      <td>2</td>\n",
       "      <td>4</td>\n",
       "      <td>2</td>\n",
       "      <td>4</td>\n",
       "    </tr>\n",
       "  </tbody>\n",
       "</table>\n",
       "</div>"
      ],
      "text/plain": [
       "   Change Status Reason - Enriched  Derived Change Category  \\\n",
       "0                                3                       12   \n",
       "1                                4                       14   \n",
       "2                                3                        1   \n",
       "3                                3                       19   \n",
       "4                                3                       19   \n",
       "\n",
       "   Change Risk Level  Change Impact  Change Priority  Change Urgency  \n",
       "0                  3              4                2               1  \n",
       "1                  2              1                2               4  \n",
       "2                  2              4                2               4  \n",
       "3                  2              4                2               4  \n",
       "4                  2              4                2               4  "
      ]
     },
     "execution_count": 103,
     "metadata": {},
     "output_type": "execute_result"
    }
   ],
   "source": [
    "# Check the changes\n",
    "df.head()"
   ]
  },
  {
   "cell_type": "code",
   "execution_count": 104,
   "id": "b7a45a29",
   "metadata": {},
   "outputs": [
    {
     "data": {
      "text/plain": [
       "Change Risk Level                 -0.035603\n",
       "Derived Change Category           -0.008593\n",
       "Change Priority                    0.006021\n",
       "Change Urgency                     0.013734\n",
       "Change Impact                      0.022316\n",
       "Change Status Reason - Enriched    1.000000\n",
       "Name: Change Status Reason - Enriched, dtype: float64"
      ]
     },
     "execution_count": 104,
     "metadata": {},
     "output_type": "execute_result"
    }
   ],
   "source": [
    "# Use built in function to compute pair-wise correlations\n",
    "df.corr(method='pearson')['Change Status Reason - Enriched'].sort_values() # pearson: standard correlation coefficient"
   ]
  },
  {
   "cell_type": "code",
   "execution_count": 105,
   "id": "c56ee814",
   "metadata": {},
   "outputs": [
    {
     "data": {
      "text/plain": [
       "array([3, 4, 3, ..., 3, 3, 3])"
      ]
     },
     "execution_count": 105,
     "metadata": {},
     "output_type": "execute_result"
    }
   ],
   "source": [
    "# Prepare data and label for model training\n",
    "y = df['Change Status Reason - Enriched'].to_numpy()\n",
    "y"
   ]
  },
  {
   "cell_type": "code",
   "execution_count": 106,
   "id": "f39bd70c",
   "metadata": {},
   "outputs": [
    {
     "data": {
      "text/plain": [
       "array([[12,  3,  4,  2,  1],\n",
       "       [14,  2,  1,  2,  4],\n",
       "       [ 1,  2,  4,  2,  4],\n",
       "       ...,\n",
       "       [19,  4,  1,  2,  4],\n",
       "       [19,  4,  1,  2,  4],\n",
       "       [19,  4,  4,  3,  3]])"
      ]
     },
     "execution_count": 106,
     "metadata": {},
     "output_type": "execute_result"
    }
   ],
   "source": [
    "X = df.drop('Change Status Reason - Enriched', axis = 1).to_numpy()\n",
    "X"
   ]
  },
  {
   "cell_type": "code",
   "execution_count": 113,
   "id": "c5cea205",
   "metadata": {},
   "outputs": [],
   "source": [
    "from sklearn.preprocessing import StandardScaler\n",
    "from sklearn import linear_model\n",
    "from sklearn.model_selection import train_test_split\n",
    "\n",
    "scale = StandardScaler()\n",
    "scaled_X = scale.fit_transform(X)\n",
    "\n",
    "X_train, X_test, y_train, y_test = train_test_split(scaled_X, y, test_size = 0.3)"
   ]
  },
  {
   "cell_type": "code",
   "execution_count": 114,
   "id": "68c24394",
   "metadata": {},
   "outputs": [],
   "source": [
    "from imblearn.over_sampling import SMOTE\n",
    "\n",
    "oversample = SMOTE()\n",
    "over_sampled_X_train, over_sampled_y_train = oversample.fit_resample(X_train, y_train)"
   ]
  },
  {
   "cell_type": "code",
   "execution_count": null,
   "id": "aa4296b7",
   "metadata": {},
   "outputs": [],
   "source": [
    "# Import classifiers and metrics from sklearn\n",
    "from sklearn.svm import SVC\n",
    "from sklearn.naive_bayes import GaussianNB\n",
    "from sklearn.ensemble import RandomForestClassifier\n",
    "from sklearn.metrics import ConfusionMatrixDisplay, confusion_matrix, roc_curve, auc, classification_report"
   ]
  },
  {
   "cell_type": "code",
   "execution_count": null,
   "id": "ffe79ffb",
   "metadata": {},
   "outputs": [],
   "source": [
    "svc = SVC(probability=True)\n",
    "nbc = GaussianNB()\n",
    "rfc = RandomForestClassifier()\n",
    "# Train ML model with training dataset using model.fit() function\n",
    "svc.fit(over_sampled_X_train, over_sampled_y_train)\n",
    "nbc.fit(over_sampled_X_train, over_sampled_y_train)\n",
    "rfc.fit(over_sampled_X_train, over_sampled_y_train)"
   ]
  },
  {
   "cell_type": "code",
   "execution_count": 89,
   "id": "938117e7",
   "metadata": {},
   "outputs": [],
   "source": [
    "# Training complete, test your model with testing dataset\n",
    "y_svc_predicted = svc.predict(X_test)\n",
    "y_svc_pred_proba = svc.predict_proba(X_test)\n",
    "\n",
    "y_nbc_predicted = nbc.predict(X_test)\n",
    "y_nbc_pred_proba = nbc.predict_proba(X_test)\n",
    "\n",
    "y_rfc_predicted = rfc.predict(X_test)\n",
    "y_rfc_pred_proba = rfc.predict_proba(X_test)"
   ]
  },
  {
   "cell_type": "code",
   "execution_count": 90,
   "id": "40efb3f7",
   "metadata": {},
   "outputs": [
    {
     "name": "stderr",
     "output_type": "stream",
     "text": [
      "C:\\Users\\hbaajour\\AppData\\Local\\anaconda3\\envs\\cisco\\Lib\\site-packages\\sklearn\\metrics\\_classification.py:1469: UndefinedMetricWarning: Precision and F-score are ill-defined and being set to 0.0 in labels with no predicted samples. Use `zero_division` parameter to control this behavior.\n",
      "  _warn_prf(average, modifier, msg_start, len(result))\n",
      "C:\\Users\\hbaajour\\AppData\\Local\\anaconda3\\envs\\cisco\\Lib\\site-packages\\sklearn\\metrics\\_classification.py:1469: UndefinedMetricWarning: Precision and F-score are ill-defined and being set to 0.0 in labels with no predicted samples. Use `zero_division` parameter to control this behavior.\n",
      "  _warn_prf(average, modifier, msg_start, len(result))\n",
      "C:\\Users\\hbaajour\\AppData\\Local\\anaconda3\\envs\\cisco\\Lib\\site-packages\\sklearn\\metrics\\_classification.py:1469: UndefinedMetricWarning: Precision and F-score are ill-defined and being set to 0.0 in labels with no predicted samples. Use `zero_division` parameter to control this behavior.\n",
      "  _warn_prf(average, modifier, msg_start, len(result))\n",
      "C:\\Users\\hbaajour\\AppData\\Local\\anaconda3\\envs\\cisco\\Lib\\site-packages\\sklearn\\metrics\\_classification.py:1469: UndefinedMetricWarning: Precision and F-score are ill-defined and being set to 0.0 in labels with no predicted samples. Use `zero_division` parameter to control this behavior.\n",
      "  _warn_prf(average, modifier, msg_start, len(result))\n",
      "C:\\Users\\hbaajour\\AppData\\Local\\anaconda3\\envs\\cisco\\Lib\\site-packages\\sklearn\\metrics\\_classification.py:1469: UndefinedMetricWarning: Precision and F-score are ill-defined and being set to 0.0 in labels with no predicted samples. Use `zero_division` parameter to control this behavior.\n",
      "  _warn_prf(average, modifier, msg_start, len(result))\n",
      "C:\\Users\\hbaajour\\AppData\\Local\\anaconda3\\envs\\cisco\\Lib\\site-packages\\sklearn\\metrics\\_classification.py:1469: UndefinedMetricWarning: Precision and F-score are ill-defined and being set to 0.0 in labels with no predicted samples. Use `zero_division` parameter to control this behavior.\n",
      "  _warn_prf(average, modifier, msg_start, len(result))\n",
      "C:\\Users\\hbaajour\\AppData\\Local\\anaconda3\\envs\\cisco\\Lib\\site-packages\\sklearn\\metrics\\_classification.py:1469: UndefinedMetricWarning: Precision and F-score are ill-defined and being set to 0.0 in labels with no predicted samples. Use `zero_division` parameter to control this behavior.\n",
      "  _warn_prf(average, modifier, msg_start, len(result))\n",
      "C:\\Users\\hbaajour\\AppData\\Local\\anaconda3\\envs\\cisco\\Lib\\site-packages\\sklearn\\metrics\\_classification.py:1469: UndefinedMetricWarning: Precision and F-score are ill-defined and being set to 0.0 in labels with no predicted samples. Use `zero_division` parameter to control this behavior.\n",
      "  _warn_prf(average, modifier, msg_start, len(result))\n",
      "C:\\Users\\hbaajour\\AppData\\Local\\anaconda3\\envs\\cisco\\Lib\\site-packages\\sklearn\\metrics\\_classification.py:1469: UndefinedMetricWarning: Precision and F-score are ill-defined and being set to 0.0 in labels with no predicted samples. Use `zero_division` parameter to control this behavior.\n",
      "  _warn_prf(average, modifier, msg_start, len(result))\n"
     ]
    },
    {
     "name": "stdout",
     "output_type": "stream",
     "text": [
      "              precision    recall  f1-score   support\n",
      "\n",
      "           0       0.00      0.00      0.00        91\n",
      "           1       0.00      0.00      0.00        58\n",
      "           2       0.00      0.00      0.00        20\n",
      "           3       0.97      1.00      0.98     10694\n",
      "           4       0.00      0.00      0.00       136\n",
      "           5       0.00      0.00      0.00        10\n",
      "           6       0.00      0.00      0.00        28\n",
      "\n",
      "    accuracy                           0.97     11037\n",
      "   macro avg       0.14      0.14      0.14     11037\n",
      "weighted avg       0.94      0.97      0.95     11037\n",
      "\n",
      "              precision    recall  f1-score   support\n",
      "\n",
      "           0       0.00      0.00      0.00        91\n",
      "           1       0.00      0.00      0.00        58\n",
      "           2       0.00      0.00      0.00        20\n",
      "           3       0.97      1.00      0.98     10694\n",
      "           4       0.00      0.00      0.00       136\n",
      "           5       0.00      0.00      0.00        10\n",
      "           6       0.00      0.00      0.00        28\n",
      "\n",
      "    accuracy                           0.97     11037\n",
      "   macro avg       0.14      0.14      0.14     11037\n",
      "weighted avg       0.94      0.97      0.95     11037\n",
      "\n",
      "              precision    recall  f1-score   support\n",
      "\n",
      "           0       0.00      0.00      0.00        91\n",
      "           1       0.00      0.00      0.00        58\n",
      "           2       0.00      0.00      0.00        20\n",
      "           3       0.97      1.00      0.98     10694\n",
      "           4       0.00      0.00      0.00       136\n",
      "           5       0.00      0.00      0.00        10\n",
      "           6       0.00      0.00      0.00        28\n",
      "\n",
      "    accuracy                           0.97     11037\n",
      "   macro avg       0.14      0.14      0.14     11037\n",
      "weighted avg       0.94      0.97      0.95     11037\n",
      "\n"
     ]
    },
    {
     "data": {
      "image/png": "[encoded data removed]",
      "text/plain": [
       "<Figure size 640x480 with 1 Axes>"
      ]
     },
     "metadata": {},
     "output_type": "display_data"
    },
    {
     "data": {
      "image/png": "[encoded data removed]",
      "text/plain": [
       "<Figure size 640x480 with 1 Axes>"
      ]
     },
     "metadata": {},
     "output_type": "display_data"
    },
    {
     "data": {
      "image/png": "[encoded data removed]",
      "text/plain": [
       "<Figure size 640x480 with 1 Axes>"
      ]
     },
     "metadata": {},
     "output_type": "display_data"
    }
   ],
   "source": [
    "# Model evaluation with confusion matrix and ROC curve\n",
    "print(classification_report(y_test, y_svc_predicted))\n",
    "print(classification_report(y_test, y_nbc_predicted))\n",
    "print(classification_report(y_test, y_rfc_predicted))\n",
    "\n",
    "models = ['Support Vector Machine', 'Naive Bayes Classifier', 'Random Forest Classifier']\n",
    "predictions = [y_svc_predicted, y_nbc_predicted, y_rfc_predicted]\n",
    "pred_probabilities = [y_svc_pred_proba, y_nbc_pred_proba, y_rfc_pred_proba]\n",
    "\n",
    "plot = 1\n",
    "\n",
    "for model, prediction, pred_proba in zip(models, predictions, pred_probabilities):\n",
    "    disp = ConfusionMatrixDisplay(confusion_matrix(y_test.ravel(), prediction))\n",
    "    disp.plot(\n",
    "        include_values=True,\n",
    "        cmap='gray',\n",
    "        colorbar=False\n",
    "    )\n",
    "    disp.ax_.set_title(f\"{model} Confusion Matrix\")"
   ]
  },
  {
   "cell_type": "code",
   "execution_count": null,
   "id": "904524e4",
   "metadata": {},
   "outputs": [],
   "source": []
  }
 ],
 "metadata": {
  "kernelspec": {
   "display_name": "Python 3 (ipykernel)",
   "language": "python",
   "name": "python3"
  },
  "language_info": {
   "codemirror_mode": {
    "name": "ipython",
    "version": 3
   },
   "file_extension": ".py",
   "mimetype": "text/x-python",
   "name": "python",
   "nbconvert_exporter": "python",
   "pygments_lexer": "ipython3",
   "version": "3.11.4"
  }
 },
 "nbformat": 4,
 "nbformat_minor": 5
}
