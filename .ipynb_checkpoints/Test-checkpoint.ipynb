{
 "cells": [
  {
   "cell_type": "markdown",
   "id": "35f0b5b3",
   "metadata": {},
   "source": [
    "# Change Status Reason Prediction Model"
   ]
  },
  {
   "cell_type": "markdown",
   "id": "1e3f07b9",
   "metadata": {},
   "source": [
    "## Explanatory Data Analysis"
   ]
  },
  {
   "cell_type": "code",
   "execution_count": 528,
   "id": "9011a2f1",
   "metadata": {},
   "outputs": [],
   "source": [
    "import pandas as pd\n",
    "\n",
    "# Making data frame from excel file\n",
    "original_dataframe = pd.read_excel(\"NCM-Change Management - Results - CISCO.xlsx\")"
   ]
  },
  {
   "cell_type": "code",
   "execution_count": 529,
   "id": "84582cbd",
   "metadata": {},
   "outputs": [
    {
     "data": {
      "text/html": [
       "<div>\n",
       "<style scoped>\n",
       "    .dataframe tbody tr th:only-of-type {\n",
       "        vertical-align: middle;\n",
       "    }\n",
       "\n",
       "    .dataframe tbody tr th {\n",
       "        vertical-align: top;\n",
       "    }\n",
       "\n",
       "    .dataframe thead th {\n",
       "        text-align: right;\n",
       "    }\n",
       "</style>\n",
       "<table border=\"1\" class=\"dataframe\">\n",
       "  <thead>\n",
       "    <tr style=\"text-align: right;\">\n",
       "      <th></th>\n",
       "      <th>Change</th>\n",
       "      <th>Link</th>\n",
       "      <th>Change Summary</th>\n",
       "      <th>Change Summary Requirements</th>\n",
       "      <th>Derived Change Category</th>\n",
       "      <th>Change Risk Level</th>\n",
       "      <th>Change Class</th>\n",
       "      <th>Change Status</th>\n",
       "      <th>Change Status Reason</th>\n",
       "      <th>Change Status Reason - Enriched</th>\n",
       "      <th>...</th>\n",
       "      <th>Change Manager Hierarchy</th>\n",
       "      <th>Change Manager Level 5 Name</th>\n",
       "      <th>Change Manager Level 4 Name</th>\n",
       "      <th>Change Manager Level 3 Name</th>\n",
       "      <th>Change Manager Level 2 Name</th>\n",
       "      <th>ChangeLink</th>\n",
       "      <th>Change Link</th>\n",
       "      <th>OusideRange</th>\n",
       "      <th>NCM</th>\n",
       "      <th>FailedChangeReport</th>\n",
       "    </tr>\n",
       "  </thead>\n",
       "  <tbody>\n",
       "    <tr>\n",
       "      <th>0</th>\n",
       "      <td>CRQ000011207332</td>\n",
       "      <td>CRQ000011207332</td>\n",
       "      <td>NA3RC Cleanup to push ISE authentication chang...</td>\n",
       "      <td>AMRS-NEC-DN(L)MODIFY-Router-ILW-268-CTO</td>\n",
       "      <td>NA3RC Project</td>\n",
       "      <td>Risk Level 3</td>\n",
       "      <td>Normal</td>\n",
       "      <td>Closed</td>\n",
       "      <td>Successful</td>\n",
       "      <td>Successful</td>\n",
       "      <td>...</td>\n",
       "      <td>MOYNIHAN/BESSANT/REILLY/KERRISON/WALKER/MCCARR...</td>\n",
       "      <td>SISTO, NICOLA A.(NICK)</td>\n",
       "      <td>MCCARREN, PATRICK</td>\n",
       "      <td>KERRISON, ANTONY R.</td>\n",
       "      <td>REILLY, DAVID</td>\n",
       "      <td>https://itsm-webapp.bankofamerica.com/arsys/se...</td>\n",
       "      <td>CRQ000011207332#https://itsm-webapp.bankofamer...</td>\n",
       "      <td>False</td>\n",
       "      <td>True</td>\n",
       "      <td>True</td>\n",
       "    </tr>\n",
       "    <tr>\n",
       "      <th>1</th>\n",
       "      <td>CRQ000009568701</td>\n",
       "      <td>CRQ000009568701</td>\n",
       "      <td>STD-GLB-NETW- SDWAN Branch Transformation - Ba...</td>\n",
       "      <td>NaN</td>\n",
       "      <td>NaN</td>\n",
       "      <td>Risk Level 2</td>\n",
       "      <td>Standard</td>\n",
       "      <td>Closed</td>\n",
       "      <td>Successful with Issues</td>\n",
       "      <td>Successful with Issues</td>\n",
       "      <td>...</td>\n",
       "      <td>MOYNIHAN/BESSANT/REILLY/KERRISON/WALKER/MCCARR...</td>\n",
       "      <td>NEWELL, JOHN A.</td>\n",
       "      <td>MCCARREN, PATRICK</td>\n",
       "      <td>KERRISON, ANTONY R.</td>\n",
       "      <td>REILLY, DAVID</td>\n",
       "      <td>https://itsm-webapp.bankofamerica.com/arsys/se...</td>\n",
       "      <td>CRQ000009568701#https://itsm-webapp.bankofamer...</td>\n",
       "      <td>False</td>\n",
       "      <td>True</td>\n",
       "      <td>True</td>\n",
       "    </tr>\n",
       "    <tr>\n",
       "      <th>2</th>\n",
       "      <td>CRQ000011239694</td>\n",
       "      <td>CRQ000011239694</td>\n",
       "      <td>STD-GLB-NETW-Cable Installation</td>\n",
       "      <td>NaN</td>\n",
       "      <td>CABLING</td>\n",
       "      <td>Risk Level 2</td>\n",
       "      <td>Standard</td>\n",
       "      <td>Closed</td>\n",
       "      <td>Successful</td>\n",
       "      <td>Successful</td>\n",
       "      <td>...</td>\n",
       "      <td>MOYNIHAN/BESSANT/REILLY/KERRISON/WALKER/MCCARR...</td>\n",
       "      <td>SISTO, NICOLA A.(NICK)</td>\n",
       "      <td>MCCARREN, PATRICK</td>\n",
       "      <td>KERRISON, ANTONY R.</td>\n",
       "      <td>REILLY, DAVID</td>\n",
       "      <td>https://itsm-webapp.bankofamerica.com/arsys/se...</td>\n",
       "      <td>CRQ000011239694#https://itsm-webapp.bankofamer...</td>\n",
       "      <td>False</td>\n",
       "      <td>True</td>\n",
       "      <td>True</td>\n",
       "    </tr>\n",
       "    <tr>\n",
       "      <th>3</th>\n",
       "      <td>CRQ000011323252</td>\n",
       "      <td>CRQ000011323252</td>\n",
       "      <td>STD-GLB-NETW-Cable Installation -TXW-D17</td>\n",
       "      <td>AMRS-STD-DN(P)Cabling support-TXW-D17-GT&amp;O(FNJ)</td>\n",
       "      <td>SWITCH</td>\n",
       "      <td>Risk Level 2</td>\n",
       "      <td>Standard</td>\n",
       "      <td>Closed</td>\n",
       "      <td>Successful</td>\n",
       "      <td>Successful</td>\n",
       "      <td>...</td>\n",
       "      <td>MOYNIHAN/BESSANT/REILLY/KERRISON/WALKER/MCCARR...</td>\n",
       "      <td>SISTO, NICOLA A.(NICK)</td>\n",
       "      <td>MCCARREN, PATRICK</td>\n",
       "      <td>KERRISON, ANTONY R.</td>\n",
       "      <td>REILLY, DAVID</td>\n",
       "      <td>https://itsm-webapp.bankofamerica.com/arsys/se...</td>\n",
       "      <td>CRQ000011323252#https://itsm-webapp.bankofamer...</td>\n",
       "      <td>False</td>\n",
       "      <td>True</td>\n",
       "      <td>True</td>\n",
       "    </tr>\n",
       "    <tr>\n",
       "      <th>4</th>\n",
       "      <td>CRQ000011323650</td>\n",
       "      <td>CRQ000011323650</td>\n",
       "      <td>STD-GLB-NETW-Cable Installation - VAW-363</td>\n",
       "      <td>AMRS-STD-DN(P)Cabling support-VAW-363 -GT&amp;O(FNJ)</td>\n",
       "      <td>SWITCH</td>\n",
       "      <td>Risk Level 2</td>\n",
       "      <td>Standard</td>\n",
       "      <td>Closed</td>\n",
       "      <td>Successful</td>\n",
       "      <td>Successful</td>\n",
       "      <td>...</td>\n",
       "      <td>MOYNIHAN/BESSANT/REILLY/KERRISON/WALKER/MCCARR...</td>\n",
       "      <td>SISTO, NICOLA A.(NICK)</td>\n",
       "      <td>MCCARREN, PATRICK</td>\n",
       "      <td>KERRISON, ANTONY R.</td>\n",
       "      <td>REILLY, DAVID</td>\n",
       "      <td>https://itsm-webapp.bankofamerica.com/arsys/se...</td>\n",
       "      <td>CRQ000011323650#https://itsm-webapp.bankofamer...</td>\n",
       "      <td>False</td>\n",
       "      <td>True</td>\n",
       "      <td>True</td>\n",
       "    </tr>\n",
       "  </tbody>\n",
       "</table>\n",
       "<p>5 rows × 63 columns</p>\n",
       "</div>"
      ],
      "text/plain": [
       "            Change             Link  \\\n",
       "0  CRQ000011207332  CRQ000011207332   \n",
       "1  CRQ000009568701  CRQ000009568701   \n",
       "2  CRQ000011239694  CRQ000011239694   \n",
       "3  CRQ000011323252  CRQ000011323252   \n",
       "4  CRQ000011323650  CRQ000011323650   \n",
       "\n",
       "                                      Change Summary  \\\n",
       "0  NA3RC Cleanup to push ISE authentication chang...   \n",
       "1  STD-GLB-NETW- SDWAN Branch Transformation - Ba...   \n",
       "2                    STD-GLB-NETW-Cable Installation   \n",
       "3           STD-GLB-NETW-Cable Installation -TXW-D17   \n",
       "4          STD-GLB-NETW-Cable Installation - VAW-363   \n",
       "\n",
       "                        Change Summary Requirements Derived Change Category  \\\n",
       "0           AMRS-NEC-DN(L)MODIFY-Router-ILW-268-CTO           NA3RC Project   \n",
       "1                                               NaN                     NaN   \n",
       "2                                               NaN                 CABLING   \n",
       "3   AMRS-STD-DN(P)Cabling support-TXW-D17-GT&O(FNJ)                  SWITCH   \n",
       "4  AMRS-STD-DN(P)Cabling support-VAW-363 -GT&O(FNJ)                  SWITCH   \n",
       "\n",
       "  Change Risk Level Change Class Change Status    Change Status Reason  \\\n",
       "0      Risk Level 3       Normal        Closed              Successful   \n",
       "1      Risk Level 2     Standard        Closed  Successful with Issues   \n",
       "2      Risk Level 2     Standard        Closed              Successful   \n",
       "3      Risk Level 2     Standard        Closed              Successful   \n",
       "4      Risk Level 2     Standard        Closed              Successful   \n",
       "\n",
       "  Change Status Reason - Enriched  ...  \\\n",
       "0                      Successful  ...   \n",
       "1          Successful with Issues  ...   \n",
       "2                      Successful  ...   \n",
       "3                      Successful  ...   \n",
       "4                      Successful  ...   \n",
       "\n",
       "                            Change Manager Hierarchy  \\\n",
       "0  MOYNIHAN/BESSANT/REILLY/KERRISON/WALKER/MCCARR...   \n",
       "1  MOYNIHAN/BESSANT/REILLY/KERRISON/WALKER/MCCARR...   \n",
       "2  MOYNIHAN/BESSANT/REILLY/KERRISON/WALKER/MCCARR...   \n",
       "3  MOYNIHAN/BESSANT/REILLY/KERRISON/WALKER/MCCARR...   \n",
       "4  MOYNIHAN/BESSANT/REILLY/KERRISON/WALKER/MCCARR...   \n",
       "\n",
       "  Change Manager Level 5 Name Change Manager Level 4 Name  \\\n",
       "0      SISTO, NICOLA A.(NICK)           MCCARREN, PATRICK   \n",
       "1             NEWELL, JOHN A.           MCCARREN, PATRICK   \n",
       "2      SISTO, NICOLA A.(NICK)           MCCARREN, PATRICK   \n",
       "3      SISTO, NICOLA A.(NICK)           MCCARREN, PATRICK   \n",
       "4      SISTO, NICOLA A.(NICK)           MCCARREN, PATRICK   \n",
       "\n",
       "  Change Manager Level 3 Name Change Manager Level 2 Name  \\\n",
       "0         KERRISON, ANTONY R.               REILLY, DAVID   \n",
       "1         KERRISON, ANTONY R.               REILLY, DAVID   \n",
       "2         KERRISON, ANTONY R.               REILLY, DAVID   \n",
       "3         KERRISON, ANTONY R.               REILLY, DAVID   \n",
       "4         KERRISON, ANTONY R.               REILLY, DAVID   \n",
       "\n",
       "                                          ChangeLink  \\\n",
       "0  https://itsm-webapp.bankofamerica.com/arsys/se...   \n",
       "1  https://itsm-webapp.bankofamerica.com/arsys/se...   \n",
       "2  https://itsm-webapp.bankofamerica.com/arsys/se...   \n",
       "3  https://itsm-webapp.bankofamerica.com/arsys/se...   \n",
       "4  https://itsm-webapp.bankofamerica.com/arsys/se...   \n",
       "\n",
       "                                         Change Link OusideRange   NCM  \\\n",
       "0  CRQ000011207332#https://itsm-webapp.bankofamer...       False  True   \n",
       "1  CRQ000009568701#https://itsm-webapp.bankofamer...       False  True   \n",
       "2  CRQ000011239694#https://itsm-webapp.bankofamer...       False  True   \n",
       "3  CRQ000011323252#https://itsm-webapp.bankofamer...       False  True   \n",
       "4  CRQ000011323650#https://itsm-webapp.bankofamer...       False  True   \n",
       "\n",
       "   FailedChangeReport  \n",
       "0                True  \n",
       "1                True  \n",
       "2                True  \n",
       "3                True  \n",
       "4                True  \n",
       "\n",
       "[5 rows x 63 columns]"
      ]
     },
     "execution_count": 529,
     "metadata": {},
     "output_type": "execute_result"
    }
   ],
   "source": [
    "# Keep rows that have Cisco Engineering as a Vendor\n",
    "original_dataframe = original_dataframe[original_dataframe['Vendor Name'] == 'Cisco Engineering']\n",
    "\n",
    "# Take a look at the data being worked with\n",
    "original_dataframe.head()"
   ]
  },
  {
   "cell_type": "code",
   "execution_count": 530,
   "id": "79034d9e",
   "metadata": {},
   "outputs": [
    {
     "data": {
      "text/plain": [
       "array(['Successful', 'Successful with Issues', 'Backed Out',\n",
       "       'unsuccessful', 'Caused Incident with Impact', 'Caused Incident',\n",
       "       'Unsuccessful'], dtype=object)"
      ]
     },
     "execution_count": 530,
     "metadata": {},
     "output_type": "execute_result"
    }
   ],
   "source": [
    "# Examine all types of Change Status that can occur in a Network Change\n",
    "original_dataframe['Change Status Reason - Enriched'].unique()"
   ]
  },
  {
   "cell_type": "code",
   "execution_count": 593,
   "id": "c551f3dd",
   "metadata": {},
   "outputs": [
    {
     "data": {
      "text/plain": [
       "array(['Successful', 'Successful with Issues', 'Backed Out',\n",
       "       'Unsuccessful', 'Caused Incident with Impact', 'Caused Incident'],\n",
       "      dtype=object)"
      ]
     },
     "execution_count": 593,
     "metadata": {},
     "output_type": "execute_result"
    }
   ],
   "source": [
    "# As seen above, data has split 'unsuccessful' and 'Unsuccessful'\n",
    "# Clearly manual error; must fix by replacing all of them to one syntax\n",
    "original_dataframe.loc[ original_dataframe['Change Status Reason - Enriched'] == 'unsuccessful', 'Change Status Reason - Enriched'] = 'Unsuccessful'\n",
    "\n",
    "# Check to see if change worked\n",
    "original_dataframe['Change Status Reason - Enriched'].unique()"
   ]
  },
  {
   "cell_type": "code",
   "execution_count": 594,
   "id": "8be46ece",
   "metadata": {},
   "outputs": [
    {
     "name": "stdout",
     "output_type": "stream",
     "text": [
      "Amount of rows: 22316\n"
     ]
    }
   ],
   "source": [
    "# Amount of rows in data frame\n",
    "print(\"Amount of rows: \" + str(len(original_dataframe.index)))"
   ]
  },
  {
   "cell_type": "code",
   "execution_count": 595,
   "id": "7c2cec9f",
   "metadata": {},
   "outputs": [],
   "source": [
    "# Copy original_dataframe and set it = to df; df will be used to conduct data preprocessing\n",
    "df = original_dataframe.copy()"
   ]
  },
  {
   "cell_type": "code",
   "execution_count": 596,
   "id": "54aa84ca",
   "metadata": {},
   "outputs": [
    {
     "data": {
      "image/png": "[encoded data removed]",
      "text/plain": [
       "<Figure size 1000x700 with 1 Axes>"
      ]
     },
     "metadata": {},
     "output_type": "display_data"
    }
   ],
   "source": [
    "# Graph the results\n",
    "\n",
    "import matplotlib.pyplot as plt\n",
    "import numpy as np\n",
    "\n",
    "# Function to add value labels\n",
    "def addlabels(x,y):\n",
    "    for i in range(len(x)):\n",
    "        plt.text(i, y[i], y[i], ha = 'center')\n",
    "\n",
    "# Store all types of change status\n",
    "change_status = original_dataframe['Change Status Reason - Enriched'].unique()\n",
    "\n",
    "# Create lists\n",
    "xList = ['Successful', \n",
    "         'Successful w/ \\nIssues', \n",
    "         'Backed Out',\n",
    "         'Unsuccessful', \n",
    "         'Caused \\nIncident \\nw/ Impact', \n",
    "         'Caused \\nIncident']\n",
    "yList = []\n",
    "\n",
    "# Add amounts to yList\n",
    "for status in change_status:\n",
    "    yList.append(df['Change Status Reason - Enriched'].value_counts()[status])\n",
    "\n",
    "# Plot graph\n",
    "plt.rcParams.update({'font.size': 12})\n",
    "\n",
    "plt.figure(figsize = (10, 7)) # setting figure size by using figure() function\n",
    "plt.bar(xList, yList) # simply having this line of code will generate the figure\n",
    "plt.yscale('log') # set graph to logaraithmic y axis\n",
    "addlabels(xList, yList) # calling the function to add value labels\n",
    "plt.title(\"Change Status Reason\") # set the title of the figure\n",
    "plt.xlabel(\"Change Reason\") # x-axis label\n",
    "plt.ylabel(\"Amount\") # y-axis label\n",
    "\n",
    "plt.show() # display the figure"
   ]
  },
  {
   "cell_type": "markdown",
   "id": "7e78c3c2",
   "metadata": {},
   "source": [
    "## Data Preprocessing"
   ]
  },
  {
   "cell_type": "code",
   "execution_count": 597,
   "id": "1d74ab69",
   "metadata": {},
   "outputs": [
    {
     "data": {
      "text/plain": [
       "array([3, 4, 0, 5, 2, 1])"
      ]
     },
     "execution_count": 597,
     "metadata": {},
     "output_type": "execute_result"
    }
   ],
   "source": [
    "# # Select a random sample of 'Successful' rows and select all of the non-'Successful' rows\n",
    "# # This is to deal with the oversampling\n",
    "# successful_df = original_dataframe[original_dataframe[\"Change Status Reason - Enriched\"]==\"Successful\"]\n",
    "# successful_df = successful_df.sample(n = 300, random_state=79312830)\n",
    "# len(successful_df.index)\n",
    "\n",
    "# not_successful_df = original_dataframe[original_dataframe[\"Change Status Reason - Enriched\"]!=\"Successful\"]\n",
    "# len(not_successful_df.index)\n",
    "\n",
    "# # Concatinate dataframe from the two filtered dataframe\n",
    "# frames = [successful_df, not_successful_df]\n",
    "# df = pd.concat(frames)\n",
    "\n",
    "# # Amount of rows in new data frame\n",
    "# len(df.index)\n",
    "\n",
    "# # Have dataframe only containing the important information needed\n",
    "# df = df[['Change Status Reason - Enriched', 'Change Risk Level', 'Change Impact', 'Change Priority', 'Change Urgency']]\n",
    "\n",
    "# Enumerate the following columns in order for the models to take values as input\n",
    "df['Change Impact'] = df['Change Impact'].str.extract('(\\d+)').astype(int)\n",
    "df['Change Risk Level'] = df['Change Risk Level'].str.extract('(\\d+)').astype(int)\n",
    "df['Change Urgency'] = df['Change Urgency'].str.extract('(\\d+)').astype(int)\n",
    "\n",
    "\n",
    "# Every other variable is categorical\n",
    "# We need to encode them so that our models can take its values as input\n",
    "from sklearn.preprocessing import LabelEncoder\n",
    "\n",
    "le = LabelEncoder()\n",
    "\n",
    "for column in df:\n",
    "    le.fit(df[column])\n",
    "    df[column] = le.transform(df[column])\n",
    "    \n",
    "# Print all unique change status reasons\n",
    "df['Change Status Reason - Enriched'].unique()"
   ]
  },
  {
   "cell_type": "code",
   "execution_count": 598,
   "id": "c983af8f",
   "metadata": {},
   "outputs": [
    {
     "data": {
      "text/html": [
       "<div>\n",
       "<style scoped>\n",
       "    .dataframe tbody tr th:only-of-type {\n",
       "        vertical-align: middle;\n",
       "    }\n",
       "\n",
       "    .dataframe tbody tr th {\n",
       "        vertical-align: top;\n",
       "    }\n",
       "\n",
       "    .dataframe thead th {\n",
       "        text-align: right;\n",
       "    }\n",
       "</style>\n",
       "<table border=\"1\" class=\"dataframe\">\n",
       "  <thead>\n",
       "    <tr style=\"text-align: right;\">\n",
       "      <th></th>\n",
       "      <th>Change</th>\n",
       "      <th>Link</th>\n",
       "      <th>Change Summary</th>\n",
       "      <th>Change Summary Requirements</th>\n",
       "      <th>Derived Change Category</th>\n",
       "      <th>Change Risk Level</th>\n",
       "      <th>Change Class</th>\n",
       "      <th>Change Status</th>\n",
       "      <th>Change Status Reason</th>\n",
       "      <th>Change Status Reason - Enriched</th>\n",
       "      <th>...</th>\n",
       "      <th>Change Manager Hierarchy</th>\n",
       "      <th>Change Manager Level 5 Name</th>\n",
       "      <th>Change Manager Level 4 Name</th>\n",
       "      <th>Change Manager Level 3 Name</th>\n",
       "      <th>Change Manager Level 2 Name</th>\n",
       "      <th>ChangeLink</th>\n",
       "      <th>Change Link</th>\n",
       "      <th>OusideRange</th>\n",
       "      <th>NCM</th>\n",
       "      <th>FailedChangeReport</th>\n",
       "    </tr>\n",
       "  </thead>\n",
       "  <tbody>\n",
       "    <tr>\n",
       "      <th>0</th>\n",
       "      <td>703</td>\n",
       "      <td>703</td>\n",
       "      <td>8554</td>\n",
       "      <td>812</td>\n",
       "      <td>12</td>\n",
       "      <td>2</td>\n",
       "      <td>2</td>\n",
       "      <td>0</td>\n",
       "      <td>1</td>\n",
       "      <td>3</td>\n",
       "      <td>...</td>\n",
       "      <td>89</td>\n",
       "      <td>19</td>\n",
       "      <td>12</td>\n",
       "      <td>4</td>\n",
       "      <td>4</td>\n",
       "      <td>698</td>\n",
       "      <td>703</td>\n",
       "      <td>0</td>\n",
       "      <td>1</td>\n",
       "      <td>0</td>\n",
       "    </tr>\n",
       "    <tr>\n",
       "      <th>1</th>\n",
       "      <td>482</td>\n",
       "      <td>482</td>\n",
       "      <td>13508</td>\n",
       "      <td>9441</td>\n",
       "      <td>19</td>\n",
       "      <td>1</td>\n",
       "      <td>3</td>\n",
       "      <td>0</td>\n",
       "      <td>2</td>\n",
       "      <td>4</td>\n",
       "      <td>...</td>\n",
       "      <td>72</td>\n",
       "      <td>14</td>\n",
       "      <td>12</td>\n",
       "      <td>4</td>\n",
       "      <td>4</td>\n",
       "      <td>481</td>\n",
       "      <td>482</td>\n",
       "      <td>0</td>\n",
       "      <td>1</td>\n",
       "      <td>0</td>\n",
       "    </tr>\n",
       "    <tr>\n",
       "      <th>2</th>\n",
       "      <td>713</td>\n",
       "      <td>713</td>\n",
       "      <td>13643</td>\n",
       "      <td>9441</td>\n",
       "      <td>1</td>\n",
       "      <td>1</td>\n",
       "      <td>3</td>\n",
       "      <td>0</td>\n",
       "      <td>1</td>\n",
       "      <td>3</td>\n",
       "      <td>...</td>\n",
       "      <td>96</td>\n",
       "      <td>19</td>\n",
       "      <td>12</td>\n",
       "      <td>4</td>\n",
       "      <td>4</td>\n",
       "      <td>727</td>\n",
       "      <td>713</td>\n",
       "      <td>0</td>\n",
       "      <td>1</td>\n",
       "      <td>0</td>\n",
       "    </tr>\n",
       "    <tr>\n",
       "      <th>3</th>\n",
       "      <td>858</td>\n",
       "      <td>858</td>\n",
       "      <td>13787</td>\n",
       "      <td>8457</td>\n",
       "      <td>16</td>\n",
       "      <td>1</td>\n",
       "      <td>3</td>\n",
       "      <td>0</td>\n",
       "      <td>1</td>\n",
       "      <td>3</td>\n",
       "      <td>...</td>\n",
       "      <td>96</td>\n",
       "      <td>19</td>\n",
       "      <td>12</td>\n",
       "      <td>4</td>\n",
       "      <td>4</td>\n",
       "      <td>863</td>\n",
       "      <td>858</td>\n",
       "      <td>0</td>\n",
       "      <td>1</td>\n",
       "      <td>0</td>\n",
       "    </tr>\n",
       "    <tr>\n",
       "      <th>4</th>\n",
       "      <td>863</td>\n",
       "      <td>863</td>\n",
       "      <td>13779</td>\n",
       "      <td>8463</td>\n",
       "      <td>16</td>\n",
       "      <td>1</td>\n",
       "      <td>3</td>\n",
       "      <td>0</td>\n",
       "      <td>1</td>\n",
       "      <td>3</td>\n",
       "      <td>...</td>\n",
       "      <td>96</td>\n",
       "      <td>19</td>\n",
       "      <td>12</td>\n",
       "      <td>4</td>\n",
       "      <td>4</td>\n",
       "      <td>876</td>\n",
       "      <td>863</td>\n",
       "      <td>0</td>\n",
       "      <td>1</td>\n",
       "      <td>0</td>\n",
       "    </tr>\n",
       "  </tbody>\n",
       "</table>\n",
       "<p>5 rows × 63 columns</p>\n",
       "</div>"
      ],
      "text/plain": [
       "   Change  Link  Change Summary  Change Summary Requirements  \\\n",
       "0     703   703            8554                          812   \n",
       "1     482   482           13508                         9441   \n",
       "2     713   713           13643                         9441   \n",
       "3     858   858           13787                         8457   \n",
       "4     863   863           13779                         8463   \n",
       "\n",
       "   Derived Change Category  Change Risk Level  Change Class  Change Status  \\\n",
       "0                       12                  2             2              0   \n",
       "1                       19                  1             3              0   \n",
       "2                        1                  1             3              0   \n",
       "3                       16                  1             3              0   \n",
       "4                       16                  1             3              0   \n",
       "\n",
       "   Change Status Reason  Change Status Reason - Enriched  ...  \\\n",
       "0                     1                                3  ...   \n",
       "1                     2                                4  ...   \n",
       "2                     1                                3  ...   \n",
       "3                     1                                3  ...   \n",
       "4                     1                                3  ...   \n",
       "\n",
       "   Change Manager Hierarchy  Change Manager Level 5 Name  \\\n",
       "0                        89                           19   \n",
       "1                        72                           14   \n",
       "2                        96                           19   \n",
       "3                        96                           19   \n",
       "4                        96                           19   \n",
       "\n",
       "   Change Manager Level 4 Name  Change Manager Level 3 Name  \\\n",
       "0                           12                            4   \n",
       "1                           12                            4   \n",
       "2                           12                            4   \n",
       "3                           12                            4   \n",
       "4                           12                            4   \n",
       "\n",
       "   Change Manager Level 2 Name  ChangeLink  Change Link  OusideRange  NCM  \\\n",
       "0                            4         698          703            0    1   \n",
       "1                            4         481          482            0    1   \n",
       "2                            4         727          713            0    1   \n",
       "3                            4         863          858            0    1   \n",
       "4                            4         876          863            0    1   \n",
       "\n",
       "   FailedChangeReport  \n",
       "0                   0  \n",
       "1                   0  \n",
       "2                   0  \n",
       "3                   0  \n",
       "4                   0  \n",
       "\n",
       "[5 rows x 63 columns]"
      ]
     },
     "execution_count": 598,
     "metadata": {},
     "output_type": "execute_result"
    }
   ],
   "source": [
    "# Examine dataframe\n",
    "df.head()"
   ]
  },
  {
   "cell_type": "code",
   "execution_count": 606,
   "id": "38a90a38",
   "metadata": {},
   "outputs": [],
   "source": [
    "# Target (Dependent) and Data (Independent) Values\n",
    "target = df['Change Status Reason - Enriched']\n",
    "data = df.drop(['Change Status Reason - Enriched', 'Change with Business Impact Flag', 'FailedChangeReport', 'Vendor Name'], axis=1)"
   ]
  },
  {
   "cell_type": "code",
   "execution_count": 605,
   "id": "4e201212",
   "metadata": {},
   "outputs": [
    {
     "data": {
      "text/html": [
       "<div>\n",
       "<style scoped>\n",
       "    .dataframe tbody tr th:only-of-type {\n",
       "        vertical-align: middle;\n",
       "    }\n",
       "\n",
       "    .dataframe tbody tr th {\n",
       "        vertical-align: top;\n",
       "    }\n",
       "\n",
       "    .dataframe thead th {\n",
       "        text-align: right;\n",
       "    }\n",
       "</style>\n",
       "<table border=\"1\" class=\"dataframe\">\n",
       "  <thead>\n",
       "    <tr style=\"text-align: right;\">\n",
       "      <th></th>\n",
       "      <th>Vendor Name</th>\n",
       "    </tr>\n",
       "  </thead>\n",
       "  <tbody>\n",
       "    <tr>\n",
       "      <th>0</th>\n",
       "      <td>0</td>\n",
       "    </tr>\n",
       "    <tr>\n",
       "      <th>1</th>\n",
       "      <td>0</td>\n",
       "    </tr>\n",
       "    <tr>\n",
       "      <th>2</th>\n",
       "      <td>0</td>\n",
       "    </tr>\n",
       "    <tr>\n",
       "      <th>3</th>\n",
       "      <td>0</td>\n",
       "    </tr>\n",
       "    <tr>\n",
       "      <th>4</th>\n",
       "      <td>0</td>\n",
       "    </tr>\n",
       "    <tr>\n",
       "      <th>...</th>\n",
       "      <td>...</td>\n",
       "    </tr>\n",
       "    <tr>\n",
       "      <th>36770</th>\n",
       "      <td>0</td>\n",
       "    </tr>\n",
       "    <tr>\n",
       "      <th>36780</th>\n",
       "      <td>0</td>\n",
       "    </tr>\n",
       "    <tr>\n",
       "      <th>36782</th>\n",
       "      <td>0</td>\n",
       "    </tr>\n",
       "    <tr>\n",
       "      <th>36784</th>\n",
       "      <td>0</td>\n",
       "    </tr>\n",
       "    <tr>\n",
       "      <th>36785</th>\n",
       "      <td>0</td>\n",
       "    </tr>\n",
       "  </tbody>\n",
       "</table>\n",
       "<p>22316 rows × 1 columns</p>\n",
       "</div>"
      ],
      "text/plain": [
       "       Vendor Name\n",
       "0                0\n",
       "1                0\n",
       "2                0\n",
       "3                0\n",
       "4                0\n",
       "...            ...\n",
       "36770            0\n",
       "36780            0\n",
       "36782            0\n",
       "36784            0\n",
       "36785            0\n",
       "\n",
       "[22316 rows x 1 columns]"
      ]
     },
     "execution_count": 605,
     "metadata": {},
     "output_type": "execute_result"
    }
   ],
   "source": [
    "data.iloc[:, [12]]"
   ]
  },
  {
   "cell_type": "code",
   "execution_count": 607,
   "id": "49ad74e8",
   "metadata": {},
   "outputs": [
    {
     "name": "stdout",
     "output_type": "stream",
     "text": [
      "                                     Feature         Score\n",
      "11                         Incident Priority  52503.434294\n",
      "8                       Change Status Reason  35299.211956\n",
      "9                   Failed Change Root Cause  23327.995266\n",
      "10                           Incident Number  12720.003763\n",
      "5                          Change Risk Level     82.036208\n",
      "6                               Change Class     63.284284\n",
      "3                Change Summary Requirements     37.667658\n",
      "36                             Change Impact     36.927912\n",
      "38                            Change Urgency     32.308451\n",
      "37                           Change Priority     26.121267\n",
      "39  Change Operational Categorization Tier 1     20.848641\n",
      "42            Change Product Category Tier 1     14.949060\n",
      "2                             Change Summary     12.993110\n",
      "44            Change Product Category Tier 3     12.071068\n",
      "45                     Change Manager Region      5.475209\n"
     ]
    }
   ],
   "source": [
    "# Feature selection to see which independent variables are best to use\n",
    "from sklearn.feature_selection import SelectKBest\n",
    "from sklearn.feature_selection import VarianceThreshold\n",
    "\n",
    "# Remove features with low variance (constant features)\n",
    "selector = VarianceThreshold(threshold=0.0)\n",
    "data_filtered = selector.fit_transform(data)\n",
    "\n",
    "bestfeatures = SelectKBest(k='all')\n",
    "fit = bestfeatures.fit(data, target)\n",
    "dfscores = pd.DataFrame(fit.scores_)\n",
    "dfcolumns = pd.DataFrame(data.columns)\n",
    "featureScores = pd.concat([dfcolumns,dfscores],axis=1)\n",
    "featureScores.columns = ['Feature','Score']\n",
    "print(featureScores.nlargest(15,'Score'))"
   ]
  },
  {
   "cell_type": "code",
   "execution_count": 608,
   "id": "f3d0d960",
   "metadata": {},
   "outputs": [
    {
     "data": {
      "text/plain": [
       "1178"
      ]
     },
     "execution_count": 608,
     "metadata": {},
     "output_type": "execute_result"
    }
   ],
   "source": [
    "# Take a random sample of the successfuls so that machine doesn't over predict successful\n",
    "successful_df = df[df[\"Change Status Reason - Enriched\"]==3]\n",
    "successful_df = successful_df.sample(n = 600, random_state=79312830)\n",
    "len(successful_df.index)\n",
    "\n",
    "not_successful_df = df[df[\"Change Status Reason - Enriched\"]!=3]\n",
    "len(not_successful_df.index)\n",
    "\n",
    "# Concatinate dataframe from the two filtered dataframe\n",
    "frames = [successful_df, not_successful_df]\n",
    "df = pd.concat(frames)\n",
    "\n",
    "# Amount of rows in new data frame\n",
    "len(df.index)"
   ]
  },
  {
   "cell_type": "code",
   "execution_count": 609,
   "id": "c57fa37a",
   "metadata": {},
   "outputs": [],
   "source": [
    "# New target and data values\n",
    "target = df['Change Status Reason - Enriched']\n",
    "data = df.drop('Change Status Reason - Enriched', axis=1)"
   ]
  },
  {
   "cell_type": "code",
   "execution_count": 610,
   "id": "ba21b565",
   "metadata": {},
   "outputs": [],
   "source": [
    "# Include all the features that will be used\n",
    "features_list_df = data[[\"Incident Priority\",\n",
    "\"Change Status Reason\",\n",
    "\"Incident Number\",\n",
    "\"Change Risk Level\",\n",
    "\"Change Class\",\n",
    "\"Change Summary Requirements\",\n",
    "\"Change Impact\",\n",
    "\"Change Urgency\",\n",
    "\"Change Priority\",\n",
    "\"Change Operational Categorization Tier 1\"]]"
   ]
  },
  {
   "cell_type": "code",
   "execution_count": 611,
   "id": "6244655f",
   "metadata": {},
   "outputs": [],
   "source": [
    "X = features_list_df.to_numpy()\n",
    "y = target.to_numpy()"
   ]
  },
  {
   "cell_type": "markdown",
   "id": "7f3702d5",
   "metadata": {},
   "source": [
    "## Classification Modeling"
   ]
  },
  {
   "cell_type": "code",
   "execution_count": 612,
   "id": "3ee1fb3f",
   "metadata": {},
   "outputs": [],
   "source": [
    "# Split train and test data\n",
    "from sklearn.model_selection import train_test_split\n",
    "from sklearn.preprocessing import StandardScaler\n",
    "\n",
    "# scale = StandardScaler()\n",
    "# scaled_X = scale.fit_transform(X)\n",
    "X_train, X_test, y_train, y_test = train_test_split(X, y, test_size = 0.3)\n",
    "\n",
    "# X_train, X_test, y_train, y_test = train_test_split(features_list_df, target, test_size = 0.3)"
   ]
  },
  {
   "cell_type": "code",
   "execution_count": 613,
   "id": "362943fe",
   "metadata": {},
   "outputs": [
    {
     "name": "stdout",
     "output_type": "stream",
     "text": [
      "(824, 10) (824,)\n",
      "(354, 10) (354,)\n"
     ]
    }
   ],
   "source": [
    "# Amount of train and test data\n",
    "print (X_train.shape, y_train.shape)\n",
    "print (X_test.shape, y_test.shape)"
   ]
  },
  {
   "cell_type": "code",
   "execution_count": 614,
   "id": "6348ba5c",
   "metadata": {},
   "outputs": [
    {
     "name": "stdout",
     "output_type": "stream",
     "text": [
      "Original train dataset shape Counter({3: 418, 4: 147, 1: 122, 0: 71, 5: 41, 2: 25})\n"
     ]
    }
   ],
   "source": [
    "# Amount for each change status reason being trained\n",
    "from collections import Counter\n",
    "\n",
    "print('Original train dataset shape %s' % Counter(y_train))"
   ]
  },
  {
   "cell_type": "code",
   "execution_count": 615,
   "id": "21dec38a",
   "metadata": {},
   "outputs": [
    {
     "name": "stdout",
     "output_type": "stream",
     "text": [
      "Resampled SMOTE train dataset shape Counter({2: 418, 4: 418, 0: 418, 3: 418, 5: 418, 1: 418})\n",
      "(2508, 10) (2508,)\n"
     ]
    }
   ],
   "source": [
    "# Use SMOTE for oversampling issues in the data\n",
    "from imblearn.over_sampling import SMOTE\n",
    "\n",
    "# SMOTE: Synthetic Minority Oversampling Technique Model\n",
    "sm = SMOTE(random_state=21)\n",
    "X_sm, y_sm = sm.fit_resample(X_train, y_train)\n",
    "print('Resampled SMOTE train dataset shape %s' % Counter(y_sm))\n",
    "print (X_sm.shape, y_sm.shape)"
   ]
  },
  {
   "cell_type": "code",
   "execution_count": 616,
   "id": "8b69aa5e",
   "metadata": {},
   "outputs": [],
   "source": [
    "# Import classifiers and metrics from sklearn\n",
    "from sklearn.svm import SVC\n",
    "from sklearn.linear_model import LogisticRegression\n",
    "from sklearn.neighbors import KNeighborsClassifier\n",
    "from sklearn.naive_bayes import GaussianNB\n",
    "from sklearn.ensemble import RandomForestClassifier\n",
    "from sklearn.metrics import ConfusionMatrixDisplay, confusion_matrix, roc_curve, auc, classification_report"
   ]
  },
  {
   "cell_type": "code",
   "execution_count": 617,
   "id": "11599f6e",
   "metadata": {},
   "outputs": [
    {
     "data": {
      "text/html": [
       "<style>#sk-container-id-28 {color: black;}#sk-container-id-28 pre{padding: 0;}#sk-container-id-28 div.sk-toggleable {background-color: white;}#sk-container-id-28 label.sk-toggleable__label {cursor: pointer;display: block;width: 100%;margin-bottom: 0;padding: 0.3em;box-sizing: border-box;text-align: center;}#sk-container-id-28 label.sk-toggleable__label-arrow:before {content: \"▸\";float: left;margin-right: 0.25em;color: #696969;}#sk-container-id-28 label.sk-toggleable__label-arrow:hover:before {color: black;}#sk-container-id-28 div.sk-estimator:hover label.sk-toggleable__label-arrow:before {color: black;}#sk-container-id-28 div.sk-toggleable__content {max-height: 0;max-width: 0;overflow: hidden;text-align: left;background-color: #f0f8ff;}#sk-container-id-28 div.sk-toggleable__content pre {margin: 0.2em;color: black;border-radius: 0.25em;background-color: #f0f8ff;}#sk-container-id-28 input.sk-toggleable__control:checked~div.sk-toggleable__content {max-height: 200px;max-width: 100%;overflow: auto;}#sk-container-id-28 input.sk-toggleable__control:checked~label.sk-toggleable__label-arrow:before {content: \"▾\";}#sk-container-id-28 div.sk-estimator input.sk-toggleable__control:checked~label.sk-toggleable__label {background-color: #d4ebff;}#sk-container-id-28 div.sk-label input.sk-toggleable__control:checked~label.sk-toggleable__label {background-color: #d4ebff;}#sk-container-id-28 input.sk-hidden--visually {border: 0;clip: rect(1px 1px 1px 1px);clip: rect(1px, 1px, 1px, 1px);height: 1px;margin: -1px;overflow: hidden;padding: 0;position: absolute;width: 1px;}#sk-container-id-28 div.sk-estimator {font-family: monospace;background-color: #f0f8ff;border: 1px dotted black;border-radius: 0.25em;box-sizing: border-box;margin-bottom: 0.5em;}#sk-container-id-28 div.sk-estimator:hover {background-color: #d4ebff;}#sk-container-id-28 div.sk-parallel-item::after {content: \"\";width: 100%;border-bottom: 1px solid gray;flex-grow: 1;}#sk-container-id-28 div.sk-label:hover label.sk-toggleable__label {background-color: #d4ebff;}#sk-container-id-28 div.sk-serial::before {content: \"\";position: absolute;border-left: 1px solid gray;box-sizing: border-box;top: 0;bottom: 0;left: 50%;z-index: 0;}#sk-container-id-28 div.sk-serial {display: flex;flex-direction: column;align-items: center;background-color: white;padding-right: 0.2em;padding-left: 0.2em;position: relative;}#sk-container-id-28 div.sk-item {position: relative;z-index: 1;}#sk-container-id-28 div.sk-parallel {display: flex;align-items: stretch;justify-content: center;background-color: white;position: relative;}#sk-container-id-28 div.sk-item::before, #sk-container-id-28 div.sk-parallel-item::before {content: \"\";position: absolute;border-left: 1px solid gray;box-sizing: border-box;top: 0;bottom: 0;left: 50%;z-index: -1;}#sk-container-id-28 div.sk-parallel-item {display: flex;flex-direction: column;z-index: 1;position: relative;background-color: white;}#sk-container-id-28 div.sk-parallel-item:first-child::after {align-self: flex-end;width: 50%;}#sk-container-id-28 div.sk-parallel-item:last-child::after {align-self: flex-start;width: 50%;}#sk-container-id-28 div.sk-parallel-item:only-child::after {width: 0;}#sk-container-id-28 div.sk-dashed-wrapped {border: 1px dashed gray;margin: 0 0.4em 0.5em 0.4em;box-sizing: border-box;padding-bottom: 0.4em;background-color: white;}#sk-container-id-28 div.sk-label label {font-family: monospace;font-weight: bold;display: inline-block;line-height: 1.2em;}#sk-container-id-28 div.sk-label-container {text-align: center;}#sk-container-id-28 div.sk-container {/* jupyter's `normalize.less` sets `[hidden] { display: none; }` but bootstrap.min.css set `[hidden] { display: none !important; }` so we also need the `!important` here to be able to override the default hidden behavior on the sphinx rendered scikit-learn.org. See: https://github.com/scikit-learn/scikit-learn/issues/21755 */display: inline-block !important;position: relative;}#sk-container-id-28 div.sk-text-repr-fallback {display: none;}</style><div id=\"sk-container-id-28\" class=\"sk-top-container\"><div class=\"sk-text-repr-fallback\"><pre>RandomForestClassifier()</pre><b>In a Jupyter environment, please rerun this cell to show the HTML representation or trust the notebook. <br />On GitHub, the HTML representation is unable to render, please try loading this page with nbviewer.org.</b></div><div class=\"sk-container\" hidden><div class=\"sk-item\"><div class=\"sk-estimator sk-toggleable\"><input class=\"sk-toggleable__control sk-hidden--visually\" id=\"sk-estimator-id-28\" type=\"checkbox\" checked><label for=\"sk-estimator-id-28\" class=\"sk-toggleable__label sk-toggleable__label-arrow\">RandomForestClassifier</label><div class=\"sk-toggleable__content\"><pre>RandomForestClassifier()</pre></div></div></div></div></div>"
      ],
      "text/plain": [
       "RandomForestClassifier()"
      ]
     },
     "execution_count": 617,
     "metadata": {},
     "output_type": "execute_result"
    }
   ],
   "source": [
    "# Initialize the models\n",
    "neigh = KNeighborsClassifier(n_neighbors=3)\n",
    "svc = SVC(probability=True)\n",
    "nbc = GaussianNB()\n",
    "rfc = RandomForestClassifier()\n",
    "# Train ML model with training dataset using model.fit() function\n",
    "neigh.fit(X_sm, y_sm)\n",
    "svc.fit(X_sm, y_sm)\n",
    "nbc.fit(X_sm, y_sm)\n",
    "rfc.fit(X_sm, y_sm)"
   ]
  },
  {
   "cell_type": "code",
   "execution_count": 618,
   "id": "679eac03",
   "metadata": {},
   "outputs": [],
   "source": [
    "# Training complete, test your model with testing dataset\n",
    "\n",
    "y_knn_predicted = neigh.predict(X_test)\n",
    "y_knn_pred_proba = neigh.predict_proba(X_test)\n",
    "\n",
    "y_svc_predicted = svc.predict(X_test)\n",
    "y_svc_pred_proba = svc.predict_proba(X_test)\n",
    "\n",
    "y_nbc_predicted = nbc.predict(X_test)\n",
    "y_nbc_pred_proba = nbc.predict_proba(X_test)\n",
    "\n",
    "y_rfc_predicted = rfc.predict(X_test)\n",
    "y_rfc_pred_proba = rfc.predict_proba(X_test)"
   ]
  },
  {
   "cell_type": "code",
   "execution_count": 619,
   "id": "e77ec169",
   "metadata": {},
   "outputs": [
    {
     "name": "stdout",
     "output_type": "stream",
     "text": [
      "              precision    recall  f1-score   support\n",
      "\n",
      "           0       1.00      1.00      1.00        37\n",
      "           1       0.80      0.74      0.77        50\n",
      "           2       0.13      0.20      0.16        10\n",
      "           3       1.00      1.00      1.00       182\n",
      "           4       1.00      0.98      0.99        59\n",
      "           5       1.00      1.00      1.00        16\n",
      "\n",
      "    accuracy                           0.94       354\n",
      "   macro avg       0.82      0.82      0.82       354\n",
      "weighted avg       0.95      0.94      0.94       354\n",
      "\n",
      "              precision    recall  f1-score   support\n",
      "\n",
      "           0       1.00      0.95      0.97        37\n",
      "           1       0.84      0.86      0.85        50\n",
      "           2       0.22      0.20      0.21        10\n",
      "           3       0.99      1.00      0.99       182\n",
      "           4       0.98      0.95      0.97        59\n",
      "           5       0.89      1.00      0.94        16\n",
      "\n",
      "    accuracy                           0.94       354\n",
      "   macro avg       0.82      0.83      0.82       354\n",
      "weighted avg       0.94      0.94      0.94       354\n",
      "\n"
     ]
    },
    {
     "data": {
      "image/png": "[encoded data removed]",
      "text/plain": [
       "<Figure size 640x480 with 1 Axes>"
      ]
     },
     "metadata": {},
     "output_type": "display_data"
    },
    {
     "data": {
      "image/png": "[encoded data removed]",
      "text/plain": [
       "<Figure size 640x480 with 1 Axes>"
      ]
     },
     "metadata": {},
     "output_type": "display_data"
    }
   ],
   "source": [
    "# Create confussion matrices for each model\n",
    "print(classification_report(y_test, y_nbc_predicted))\n",
    "print(classification_report(y_test, y_rfc_predicted))\n",
    "\n",
    "models = ['Naive Bayes Classifier', 'Random Forest Classifier']\n",
    "predictions = [y_nbc_predicted, y_rfc_predicted]\n",
    "pred_probabilities = [y_nbc_pred_proba, y_rfc_pred_proba]\n",
    "\n",
    "plot = 1\n",
    "\n",
    "for model, prediction, pred_proba in zip(models, predictions, pred_probabilities):\n",
    "    disp = ConfusionMatrixDisplay(confusion_matrix(y_test.ravel(), prediction))\n",
    "    disp.plot(\n",
    "        include_values=True,\n",
    "        cmap='gray',\n",
    "        colorbar=False\n",
    "    )\n",
    "    disp.ax_.set_title(f\"{model} Confusion Matrix\")"
   ]
  },
  {
   "cell_type": "code",
   "execution_count": null,
   "id": "9be1e43f",
   "metadata": {},
   "outputs": [],
   "source": []
  },
  {
   "cell_type": "code",
   "execution_count": null,
   "id": "f3568112",
   "metadata": {},
   "outputs": [],
   "source": []
  },
  {
   "cell_type": "code",
   "execution_count": null,
   "id": "ad89670f",
   "metadata": {},
   "outputs": [],
   "source": []
  }
 ],
 "metadata": {
  "kernelspec": {
   "display_name": "Python 3 (ipykernel)",
   "language": "python",
   "name": "python3"
  },
  "language_info": {
   "codemirror_mode": {
    "name": "ipython",
    "version": 3
   },
   "file_extension": ".py",
   "mimetype": "text/x-python",
   "name": "python",
   "nbconvert_exporter": "python",
   "pygments_lexer": "ipython3",
   "version": "3.11.4"
  }
 },
 "nbformat": 4,
 "nbformat_minor": 5
}
